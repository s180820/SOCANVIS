{
 "cells": [
  {
   "cell_type": "code",
   "execution_count": null,
   "id": "144990f7-5b6f-448f-a0b0-bcef6c693d58",
   "metadata": {},
   "outputs": [],
   "source": [
    "#!/usr/bin/env python"
   ]
  },
  {
   "cell_type": "code",
   "execution_count": null,
   "id": "8960af40-0066-47ff-99b6-0572b41ad591",
   "metadata": {},
   "outputs": [],
   "source": [
    "import pandas as pd\n",
    "import numpy as np\n",
    "import matplotlib.pyplot as plt\n",
    "import matplotlib.image as mpimg"
   ]
  },
  {
   "cell_type": "code",
   "execution_count": null,
   "id": "99a1ba68-10d7-4d51-afa8-bf0c4ca722f9",
   "metadata": {},
   "outputs": [],
   "source": [
    "health = pd.read_csv(\"../Datasets/rankmd.csv\", delimiter=\";\")\n",
    "FastFood = pd.read_csv(\"../Datasets/FastFoodRestaurants.csv\")\n",
    "income = pd.read_csv(\"../Datasets/kaggle_income.csv\", encoding=\"ISO 8859-1\")"
   ]
  },
  {
   "cell_type": "code",
   "execution_count": null,
   "id": "c92285c2",
   "metadata": {},
   "outputs": [],
   "source": [
    "len(FastFood)"
   ]
  },
  {
   "cell_type": "code",
   "execution_count": null,
   "id": "1d7ee26f",
   "metadata": {},
   "outputs": [],
   "source": [
    "# Adding custom icon column\n",
    "FastFood[\"icon\"] = \"\"\n",
    "\n",
    "# Differentiating between different restaurents! \n",
    "for cnt, name in enumerate(FastFood[\"name\"]):\n",
    "   print(cnt)\n",
    "   if (name == \"McDonald's\"):\n",
    "        FastFood[\"icon\"][cnt] = r\"../Icons/McDonalds.png\"\n",
    "   elif (name == \"Burger King\"):\n",
    "        FastFood[\"icon\"][cnt] = r\"../Icons/Burger King.png\"\n",
    "   elif (name == \"Taco Bell\"): \n",
    "        FastFood[\"icon\"][cnt] = r\"../Icons/Taco Bell.png\"\n",
    "   elif (name == \"Wendy's\"):\n",
    "       FastFood[\"icon\"][cnt] = r\"../Icons/Wendys.png\"\n",
    "   else:\n",
    "      continue\n",
    "\n",
    "\n"
   ]
  },
  {
   "cell_type": "code",
   "execution_count": null,
   "id": "489bd18e-fccd-44e1-ab6c-64fd1e559494",
   "metadata": {},
   "outputs": [],
   "source": [
    "import numpy as np # linear algebra\n",
    "import pandas as pd # data processing, CSV file I/O (e.g. pd.read_csv)\n",
    "import sys\n",
    "#!{sys.executable} -m pip install folium\n",
    "import folium\n",
    "\n",
    "lat, lon = 37.77919, -100.41914 \n",
    "\n",
    "map_SF = folium.Map([lat, lon], tiles = \"Stamen Toner\", zoom_start=4, prefer_canvas=True)\n",
    "\n",
    "\n",
    "lat_list = list(FastFood.latitude)\n",
    "lon_list = list(FastFood.longitude)\n",
    "\n",
    "for i in range(len(FastFood)):\n",
    "    if (FastFood[\"icon\"][i] == \"\"):\n",
    "        folium.CircleMarker(location=[lat_list[i], lon_list[i]],\n",
    "                            color='red',\n",
    "                            radius=1,\n",
    "                            weight=1).add_to(map_SF)\n",
    "    else: \n",
    "        icon = folium.features.CustomIcon(FastFood[\"icon\"][i], icon_size=(14,14))\n",
    "        marker = folium.map.Marker(location=[lat_list[i], lon_list[i]], icon=icon)\n",
    "        map_SF.add_children(marker)\n",
    "map_SF"
   ]
  },
  {
   "cell_type": "code",
   "execution_count": null,
   "id": "9239f720-c3c4-4b50-a532-34a092630c3f",
   "metadata": {},
   "outputs": [],
   "source": [
    "health['FIPS']=health['FIPS'].apply(lambda x: '{0:0>5}'.format(x))\n",
    "health"
   ]
  },
  {
   "cell_type": "code",
   "execution_count": null,
   "id": "e4ecf835-3ccb-414a-adf5-a5158f1b0154",
   "metadata": {},
   "outputs": [],
   "source": [
    "from urllib.request import urlopen\n",
    "import json\n",
    "import os\n",
    "#!{sys.executable} -m pip install geopandas\n",
    "import pandas as pd\n",
    "import geopandas as gpd\n",
    "import plotly.express as px\n",
    "#df = pd.read_csv(\"https://raw.githubusercontent.com/plotly/datasets/master/fips-unemp-16.csv\",\n",
    " #dtype={\"fips\": str})\n",
    "\n",
    "from urllib.request import urlopen\n",
    "import json\n",
    "with urlopen('https://raw.githubusercontent.com/plotly/datasets/master/geojson-counties-fips.json') as response:\n",
    "    counties = json.load(response)\n",
    "\n",
    "\n",
    "fig = px.choropleth_mapbox(health.fillna(0), geojson=counties, locations='FIPS', color='premature_deathDeaths',\n",
    "                           color_continuous_scale=\"Viridis\",\n",
    "                           range_color=(0, 10000),\n",
    "                           mapbox_style=\"carto-positron\",\n",
    "                           zoom=2.5, center = {\"lat\": 37.77919, \"lon\": -100.41914},\n",
    "                           opacity=0.5,\n",
    "                           labels={'premature_deathDeaths':'Health Score'}\n",
    "                          )\n",
    "\n",
    "fig.update_layout(margin={\"r\":0,\"t\":0,\"l\":0,\"b\":0})\n",
    "fig.show()"
   ]
  },
  {
   "cell_type": "code",
   "execution_count": null,
   "id": "34a71b3b-8ab6-4067-b8be-a0f1c9ea9290",
   "metadata": {},
   "outputs": [],
   "source": [
    "import plotly.graph_objects as go\n",
    "\n",
    "fig = go.Figure(go.Choroplethmapbox(geojson=counties, locations=health.FIPS, z=health.premature_deathYears_of_Potential_Life_Lost_Rate.fillna(0),\n",
    "                                    colorscale=\"Viridis\", zmin=0, zmax=20000,\n",
    "                                    marker_opacity=0.5, marker_line_width=0))\n",
    "fig.update_layout(mapbox_style=\"carto-positron\",\n",
    "                  mapbox_zoom=3, mapbox_center = {\"lat\": 37.0902, \"lon\": -95.7129})\n",
    "fig.update_layout(margin={\"r\":0,\"t\":0,\"l\":0,\"b\":0})\n",
    "fig.show()"
   ]
  },
  {
   "cell_type": "code",
   "execution_count": null,
   "id": "e6a7df60-4ee1-469d-a594-1229a78636ef",
   "metadata": {},
   "outputs": [],
   "source": [
    "income"
   ]
  },
  {
   "cell_type": "code",
   "execution_count": null,
   "id": "026424ba-e1c7-4c4a-9e30-9a405e10c948",
   "metadata": {},
   "outputs": [],
   "source": [
    "health"
   ]
  },
  {
   "cell_type": "code",
   "execution_count": null,
   "id": "6095de60-056c-4489-b531-6188b6b29c7f",
   "metadata": {},
   "outputs": [],
   "source": []
  }
 ],
 "metadata": {
  "kernelspec": {
   "display_name": "Python 3 (ipykernel)",
   "language": "python",
   "name": "python3"
  },
  "language_info": {
   "codemirror_mode": {
    "name": "ipython",
    "version": 3
   },
   "file_extension": ".py",
   "mimetype": "text/x-python",
   "name": "python",
   "nbconvert_exporter": "python",
   "pygments_lexer": "ipython3",
   "version": "3.10.4"
  }
 },
 "nbformat": 4,
 "nbformat_minor": 5
}
