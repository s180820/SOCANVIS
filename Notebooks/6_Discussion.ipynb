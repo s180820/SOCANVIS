{
 "cells": [
  {
   "cell_type": "markdown",
   "id": "86358f26-2ebd-4fbb-8959-3736d352cd7a",
   "metadata": {},
   "source": [
    "Discussion\n",
    "\n",
    "* What went well?\n",
    "\n",
    "* Potential further work\n",
    "\n",
    "As obesity is caused by obtaining more calories than using, therefore obesity can potentially be passed on genetically both by metabolism but also mentally by e.g. having a drive to overeat, (https://www.cdc.gov/genomics/resources/diseases/obesity/index.htm). Therefore it could be interesting to look at peoples moving patterns around the United States and maybe even globally to get a dynamic view. \n",
    "\n"
   ]
  }
 ],
 "metadata": {
  "kernelspec": {
   "display_name": "Python 3 (ipykernel)",
   "language": "python",
   "name": "python3"
  },
  "language_info": {
   "codemirror_mode": {
    "name": "ipython",
    "version": 3
   },
   "file_extension": ".py",
   "mimetype": "text/x-python",
   "name": "python",
   "nbconvert_exporter": "python",
   "pygments_lexer": "ipython3",
   "version": "3.9.7"
  }
 },
 "nbformat": 4,
 "nbformat_minor": 5
}
