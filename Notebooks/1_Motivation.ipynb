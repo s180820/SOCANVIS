{
 "cells": [
  {
   "cell_type": "markdown",
   "id": "04da984a-415b-42b0-b431-20c26261f3a9",
   "metadata": {},
   "source": [
    "Motivation \n",
    "\n",
    "\n",
    "* What is your dataset?\n",
    "\n",
    "* Why did you choose this/these particular dataset(s)?\n",
    "\n",
    "* What was your goal for the end user's experience?\n"
   ]
  }
 ],
 "metadata": {
  "kernelspec": {
   "display_name": "Python 3 (ipykernel)",
   "language": "python",
   "name": "python3"
  },
  "language_info": {
   "codemirror_mode": {
    "name": "ipython",
    "version": 3
   },
   "file_extension": ".py",
   "mimetype": "text/x-python",
   "name": "python",
   "nbconvert_exporter": "python",
   "pygments_lexer": "ipython3",
   "version": "3.9.7"
  }
 },
 "nbformat": 4,
 "nbformat_minor": 5
}
