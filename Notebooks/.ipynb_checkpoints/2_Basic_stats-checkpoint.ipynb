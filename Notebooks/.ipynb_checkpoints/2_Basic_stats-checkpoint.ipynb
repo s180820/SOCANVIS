{
 "cells": [
  {
   "cell_type": "markdown",
   "id": "b4c24614-bebf-4c01-8124-d450cdc53146",
   "metadata": {},
   "source": [
    "Basic stats Let's understand the dataset better\n",
    "\n",
    "* Write about your choices in data cleaning and preprocessing\n",
    "\n",
    "Removing the rows with health['Unreliable']==x\n",
    "\n",
    "\n",
    "\n",
    "* Write a short section that discusses the dataset stats, containing key points/plots from your exploratory data analysis.\n"
   ]
  }
 ],
 "metadata": {
  "kernelspec": {
   "display_name": "Python 3 (ipykernel)",
   "language": "python",
   "name": "python3"
  },
  "language_info": {
   "codemirror_mode": {
    "name": "ipython",
    "version": 3
   },
   "file_extension": ".py",
   "mimetype": "text/x-python",
   "name": "python",
   "nbconvert_exporter": "python",
   "pygments_lexer": "ipython3",
   "version": "3.9.7"
  }
 },
 "nbformat": 4,
 "nbformat_minor": 5
}
