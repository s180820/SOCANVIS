{
 "cells": [
  {
   "cell_type": "markdown",
   "id": "04da984a-415b-42b0-b431-20c26261f3a9",
   "metadata": {
    "tags": []
   },
   "source": [
    "# Motivation \n",
    "\n",
    "One of the problems of some modern welfare states that there seem to be a tendency of obesity\n",
    "\n",
    "## What causes obesity?\n",
    "\n",
    "Possible factors: \n",
    "Income, gender and education\n",
    "https://www.cdc.gov/nchs/products/databriefs/db50.htm\n",
    "\n",
    "This study from 2005-2008 found:\n",
    "\"\n",
    "* Higher income women are less likely to be obese than low income women, but most obese women are not low income\n",
    "* Among men, obesity prevalence is generally similar at all income levels, however, among non-Hispanic black and Mexican-American men those with higher income are more likely to be obese than those with low income. \n",
    "* There is no significant trend between obesity and education among men. Among women, however, there is a trend, those with college degrees are less likely to be obese compared with less educated women\n",
    "* Between 1988–1994 and 2007–2008 the prevalence of obesity increased in adults at all income and education levels\n",
    "\"\n",
    "\n",
    "(Disclaimer regarding obesity measured in BMI, which is not a good measure) \n",
    "(Is it easy access/low priced \"unhealthy\" foods?\n",
    "(Maybe mention that it's not that some foods are bad and some are good, but overconsumption of a specific type of food can be damaging and can cause obesity if it is high calorie food)\n",
    "\n",
    "\n",
    "\n",
    "\n",
    "* What is your dataset?\n",
    "\n",
    "* Why did you choose this/these particular dataset(s)?\n",
    "\n",
    "* What was your goal for the end user's experience?\n"
   ]
  },
  {
   "cell_type": "code",
   "execution_count": null,
   "id": "1adf4491-1409-44c6-9e55-dd62bbfad175",
   "metadata": {},
   "outputs": [],
   "source": []
  }
 ],
 "metadata": {
  "kernelspec": {
   "display_name": "Python 3 (ipykernel)",
   "language": "python",
   "name": "python3"
  },
  "language_info": {
   "codemirror_mode": {
    "name": "ipython",
    "version": 3
   },
   "file_extension": ".py",
   "mimetype": "text/x-python",
   "name": "python",
   "nbconvert_exporter": "python",
   "pygments_lexer": "ipython3",
   "version": "3.9.7"
  }
 },
 "nbformat": 4,
 "nbformat_minor": 5
}
