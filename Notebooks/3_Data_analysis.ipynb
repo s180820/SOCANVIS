{
 "cells": [
  {
   "cell_type": "markdown",
   "id": "03ad366a-6a97-406d-9438-af4d47e314ba",
   "metadata": {},
   "source": [
    "Data analysis\n",
    "\n",
    "Describe your data analysis and explain what you've learned about the dataset. *If relevant, talk about your machine-learning.\n"
   ]
  }
 ],
 "metadata": {
  "kernelspec": {
   "display_name": "Python 3 (ipykernel)",
   "language": "python",
   "name": "python3"
  },
  "language_info": {
   "codemirror_mode": {
    "name": "ipython",
    "version": 3
   },
   "file_extension": ".py",
   "mimetype": "text/x-python",
   "name": "python",
   "nbconvert_exporter": "python",
   "pygments_lexer": "ipython3",
   "version": "3.9.7"
  }
 },
 "nbformat": 4,
 "nbformat_minor": 5
}
