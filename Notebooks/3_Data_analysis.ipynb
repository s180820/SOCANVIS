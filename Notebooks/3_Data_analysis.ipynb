{
 "cells": [
  {
   "cell_type": "markdown",
   "id": "03ad366a-6a97-406d-9438-af4d47e314ba",
   "metadata": {},
   "source": [
    "Data analysis\n",
    "\n",
    "Describe your data analysis and explain what you've learned about the dataset. *If relevant, talk about your machine-learning.\n"
   ]
  },
  {
   "cell_type": "markdown",
   "id": "089367d8-41f6-4a17-ad4a-1df67b2b0475",
   "metadata": {},
   "source": [
    "## Predicting Obesity\n",
    "\n",
    "To get a sense of correlation or consistency in the data, we choose to see if we could predict wether or not 1/3 of the adults in a state were obese or not. We choose 1/3 since the median of the obesity column was 34 (`health['adult_obesity_% Adults with Obesity'].median() = 34`), leaving us with somewhat a dataset split into two. The new column `is_obese` was then introduced as a response variable and the obesity column omitted. The prediction we did was a simple `Decisiontreeclassifier` to quickly try and get a prediction and therefore a possible tendency in the data. Firstly the correlation heatmap is computed to check for any surprising correlations in the data:\n",
    "\n",
    "\n",
    "<img src=\"../Visulisations/corrHeat.png\"  width=\"600\" height=\"600\">\n",
    "\n",
    "\n",
    "\n",
    "The confusion matrix was computed as seen below:\n",
    "\n",
    "![Confusion matrix from the prediction model](../Visulisations/confusionMatrix.png \"Confusion matrix from the prediction model\")\n",
    "\n",
    "\n",
    "With the different results from the confusion matrix:\n",
    "\n",
    "* Accuracy of the model: 0.66\n",
    "* Precision of the model: 0.7009966777408638\n",
    "* recall of the model: 0.7250859106529209\n",
    "* F1-score of the model: 0.7128378378378377"
   ]
  },
  {
   "cell_type": "markdown",
   "id": "ff9543a4",
   "metadata": {},
   "source": []
  }
 ],
 "metadata": {
  "kernelspec": {
   "display_name": "Python 3 (ipykernel)",
   "language": "python",
   "name": "python3"
  },
  "language_info": {
   "codemirror_mode": {
    "name": "ipython",
    "version": 3
   },
   "file_extension": ".py",
   "mimetype": "text/x-python",
   "name": "python",
   "nbconvert_exporter": "python",
   "pygments_lexer": "ipython3",
   "version": "3.9.7"
  }
 },
 "nbformat": 4,
 "nbformat_minor": 5
}
