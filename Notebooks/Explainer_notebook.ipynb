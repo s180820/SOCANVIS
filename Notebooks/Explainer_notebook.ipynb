{
 "cells": [
  {
   "cell_type": "markdown",
   "id": "429f3b1b-c12f-41a7-ba72-9ea9ce5d4cbd",
   "metadata": {},
   "source": [
    "# Explainer Notebook\n",
    "\n",
    "#### Contributions \n",
    "\n",
    "All fields of work has had a Head Contributer, but all work have been discussed between the teammembers. \n",
    "\n",
    "|__Field__                             | __Head Contributer__|\n",
    "|---------                             |--------             |\n",
    "|xxxx                                  |xxx                  |\n",
    "|Website                               |xxx                  |\n",
    "|xxx                                   |xxx                  |  \n",
    "|Basic statistics                      |xxx                  |\n",
    "|xxx                                   |xxx                  |\n",
    "|xxx                                   |xxx                  |\n",
    "\n",
    "\n",
    "\n",
    "# 1. Motivation\n",
    "\n",
    "#### The data sets\n",
    "The data used in this project consists of xxx data sets. Our data sets contain xxx variables after cleaning and preprocessing and to name a few it contains the user's xxx, xxx, etc. \n",
    "\n",
    "\n",
    "#### Why this-data?\n",
    "<!--  - __Why did you choose this/these particular dataset(s)?__  -->\n",
    "\n",
    "\n",
    "#### The idea and goal of the project \n"
   ]
  },
  {
   "cell_type": "markdown",
   "id": "50ec2445-9ae2-4670-b0bc-1c795aa8de2d",
   "metadata": {},
   "source": [
    "# 2. Basic statistics and data handling\n",
    "\n",
    "\n",
    "#### Collecting data\n",
    "\n",
    "\n",
    "#### Cleaning data \n",
    "\n",
    "\n",
    "#### Preprocessing data\n",
    "\n",
    "\n",
    "#### Data statistics \n",
    "\n",
    "\n",
    "\n",
    "\n",
    "<!-- > - Write a short section that discusses the dataset stats (here you can recycle the work you did for Project Assignment A)\n",
    "__MANGLER__ -->"
   ]
  },
  {
   "cell_type": "markdown",
   "id": "26c430f4-e75a-4f64-87fd-e006d426f920",
   "metadata": {},
   "source": [
    "# 3. Tools, theory and analysis\n",
    "> - Talk about how you've worked with text, including regular expressions, unicode, etc.\n",
    "> - Describe which network science tools and data analysis strategies you've used, how those network science measures work, and why the tools you've chosen are right for the problem you're solving.\n",
    "> - How did you use the tools to understand your dataset?\n"
   ]
  },
  {
   "cell_type": "markdown",
   "id": "8d47ec2f-bbe0-4ba5-a469-8740a551a91d",
   "metadata": {},
   "source": [
    "# 4. Discussion. Think critically about your creation\n",
    "\n",
    "## What went well?\n",
    "\n",
    "xxx\n",
    "\n",
    "\n",
    "## What could be improved?\n",
    "\n",
    "xxx"
   ]
  },
  {
   "cell_type": "code",
   "execution_count": null,
   "id": "93b9dfa0-b633-42d5-8689-f3d7d1764c92",
   "metadata": {},
   "outputs": [],
   "source": []
  }
 ],
 "metadata": {
  "kernelspec": {
   "display_name": "Python 3 (ipykernel)",
   "language": "python",
   "name": "python3"
  },
  "language_info": {
   "codemirror_mode": {
    "name": "ipython",
    "version": 3
   },
   "file_extension": ".py",
   "mimetype": "text/x-python",
   "name": "python",
   "nbconvert_exporter": "python",
   "pygments_lexer": "ipython3",
   "version": "3.9.7"
  }
 },
 "nbformat": 4,
 "nbformat_minor": 5
}
